{
 "cells": [
  {
   "cell_type": "markdown",
   "id": "ef1cc9a7-510a-4636-8859-fb36848984ee",
   "metadata": {},
   "source": [
    "# Earthquake damage classification"
   ]
  },
  {
   "cell_type": "markdown",
   "id": "6fa8681d-6c1f-4652-8e9e-c11af1da9f0f",
   "metadata": {},
   "source": [
    "### 24 August 2016 Central Italy earthquake 🇮🇹\n",
    "### 26 October 2016 Central Italy earthquakes 🇮🇹\n",
    "### 30 October 2016 Central Italy earthquake 🇮🇹"
   ]
  },
  {
   "cell_type": "markdown",
   "id": "f1a5dae8-5187-43db-8ced-11a375e75e74",
   "metadata": {},
   "source": [
    "## 0: Preliminaries"
   ]
  },
  {
   "cell_type": "markdown",
   "id": "ee793b2b-cdf5-409b-91f2-41576c40c4d7",
   "metadata": {},
   "source": [
    "### Import python libraries "
   ]
  },
  {
   "cell_type": "code",
   "execution_count": null,
   "id": "8a4c6f61-6c12-4839-9def-4cea4748556e",
   "metadata": {},
   "outputs": [],
   "source": [
    "import numpy as np\n",
    "import pandas as pd\n",
    "import geopandas as gpd\n",
    "import fiona\n",
    "import folium\n",
    "import rasterio\n",
    "import rasterio.mask\n",
    "import rasterstats as rs\n",
    "import seaborn as sns\n",
    "from shapely.geometry import Point\n",
    "from time import time\n",
    "import matplotlib.pyplot as plt\n",
    "%matplotlib inline\n",
    "starttime = time()"
   ]
  },
  {
   "cell_type": "markdown",
   "id": "7a227ec8-f53e-493e-a60f-a6aa69cd2e04",
   "metadata": {},
   "source": [
    "### Set the default coordinate reference system"
   ]
  },
  {
   "cell_type": "code",
   "execution_count": null,
   "id": "849dc5a0-1904-40be-a1b1-3b1149af6e2b",
   "metadata": {},
   "outputs": [],
   "source": [
    "dst_crs = \"EPSG:4326\""
   ]
  },
  {
   "cell_type": "markdown",
   "id": "f370e898-d9bf-4a15-902a-1999ed75f097",
   "metadata": {},
   "source": [
    "### Indicate paths to input files"
   ]
  },
  {
   "cell_type": "code",
   "execution_count": null,
   "id": "84c534cf-2ed4-4a50-974b-008fad2a5530",
   "metadata": {},
   "outputs": [],
   "source": [
    "event_name = \"Central Italy earthquakes\"\n",
    "dpm_raw_file = \"DPM/ARIA_DPM_ALOS2_f540_v0.5u_climMax07454_T1H1B0U0_dpmRaw.tif\"\n",
    "dpm_clipped_file = \"DPM/ARIA_DPM_ALOS2_f540_v0.5u_climMax07454_T1H1B0U0_dpmRaw_ShakeMapMask.tif\"\n",
    "# building_footprints_file = \"Buildings/Buildings.geojson\"\n",
    "damage_labels_file = \"DamageLabels/Budhanilkantha_Data.csv\"\n",
    "shakemap_url = \"https://earthquake.usgs.gov/product/shakemap/us20002926/atlas/1594162031303/download/\"\n",
    "shakemap_json = shakemap_url + \"cont_mmi.json\" # Contours\n",
    "shakemap_zip = shakemap_url + \"shape.zip\" # Polygons"
   ]
  },
  {
   "cell_type": "markdown",
   "id": "4ec74ba2-4f2b-4a9d-b76f-6fe20ca0f39b",
   "metadata": {},
   "source": [
    "## 1: Demarcate affected area"
   ]
  },
  {
   "cell_type": "markdown",
   "id": "6bd8ce34-32fd-4827-a1b9-7f33685dcc66",
   "metadata": {},
   "source": [
    "### Draw an empty map centered on the event¶"
   ]
  },
  {
   "cell_type": "code",
   "execution_count": null,
   "id": "7f41cd6a-e092-49aa-bb99-00451c469e73",
   "metadata": {},
   "outputs": [],
   "source": [
    "lat = +28.231\n",
    "lon = +84.731\n",
    "\n",
    "bound_n = lat + 3\n",
    "bound_e = lon + 3\n",
    "bound_s = lat - 3\n",
    "bound_w = lon - 3\n",
    "\n",
    "m = folium.Map(\n",
    "    location=[lat, lon], \n",
    "    zoom_start=9,\n",
    "    tiles='Stamen Terrain')\n",
    "\n",
    "folium.CircleMarker(\n",
    "    location=[lat, lon],\n",
    "    radius=5,\n",
    "    tooltip=\"Epicenter\",\n",
    "    popup=event_name,\n",
    "    color=\"IndianRed\",\n",
    "    fill_color=\"LightCoral\",\n",
    "    fill=True\n",
    ").add_to(m)\n",
    "\n",
    "m"
   ]
  },
  {
   "cell_type": "markdown",
   "id": "45752fda-695a-4bdf-977e-e95bce234eee",
   "metadata": {},
   "source": [
    "### Draw ShakeMap contours for MMI ≥ V"
   ]
  },
  {
   "cell_type": "code",
   "execution_count": null,
   "id": "2c3b66f0-e99a-445a-bceb-b53fb6f8cb2b",
   "metadata": {},
   "outputs": [],
   "source": [
    "style_function = lambda x: {\n",
    "    'color': x[\"properties\"][\"color\"],\n",
    "    'weight': x[\"properties\"][\"weight\"] if x[\"properties\"][\"value\"] >= 5 else 0\n",
    "}\n",
    "tooltip = folium.features.GeoJsonTooltip(fields=[\"value\"])\n",
    "\n",
    "folium.GeoJson(\n",
    "    shakemap_json,\n",
    "    name=\"ShakeMap Contours\",\n",
    "    style_function=style_function,\n",
    "    tooltip=tooltip\n",
    ").add_to(m)\n",
    "\n",
    "folium.TileLayer('OpenStreetMap').add_to(m)\n",
    "folium.LayerControl().add_to(m)\n",
    "\n",
    "m"
   ]
  },
  {
   "cell_type": "markdown",
   "id": "0d543d5a-5be6-4b7a-b7a0-64f4ae664760",
   "metadata": {},
   "source": [
    "### Save the MMI V contour as a vector layer"
   ]
  },
  {
   "cell_type": "code",
   "execution_count": null,
   "id": "87ccebc7-213a-4a3f-96b0-69d96fff21bb",
   "metadata": {},
   "outputs": [],
   "source": [
    "shakemap_gdf = gpd.read_file(shakemap_json)\n",
    "shakemapV_gdf = shakemap_gdf[shakemap_gdf.value==5]\n",
    "shakemapV_gdf.to_file(\"ShakeMap/MMI_V_Contours.gpkg\", driver=\"GPKG\")\n",
    "shakemapV_gdf.convex_hull.to_file(\"ShakeMap/MMI_V_Envelope.gpkg\", driver=\"GPKG\")"
   ]
  },
  {
   "cell_type": "markdown",
   "id": "83ca4fd7-4770-4ae0-9e80-1c5a1beefe63",
   "metadata": {},
   "source": [
    "## 2: Load DPM tiles and mask to built areas within MMI≥V"
   ]
  },
  {
   "cell_type": "markdown",
   "id": "0291d8df-897e-48c9-a1ff-0057a181b629",
   "metadata": {},
   "source": [
    "### Read the DPM raster and mask it using the MMI V contour"
   ]
  },
  {
   "cell_type": "code",
   "execution_count": null,
   "id": "2d46e0ae-4964-4e8e-b2ba-4c158bd17b68",
   "metadata": {},
   "outputs": [],
   "source": [
    "from rasterio.warp import calculate_default_transform, reproject, Resampling\n",
    "\n",
    "with fiona.open(\"ShakeMap/MMI_V_Envelope.gpkg\", \"r\") as shapefile:\n",
    "    shapes = [feature[\"geometry\"] for feature in shapefile]\n",
    "\n",
    "with rasterio.open(dpm_raw_file) as src:\n",
    "    out_image, out_transform = rasterio.mask.mask(src, shapes, crop=True)\n",
    "    out_meta = src.meta\n",
    "    \n",
    "out_meta.update({\"driver\": \"GTiff\",\n",
    "                 \"height\": out_image.shape[1],\n",
    "                 \"width\": out_image.shape[2],\n",
    "                 \"transform\": out_transform})\n",
    "\n",
    "with rasterio.open(dpm_clipped_file, \"w\", **out_meta) as dest:\n",
    "    dest.write(out_image)"
   ]
  },
  {
   "cell_type": "markdown",
   "id": "21797167-578f-47b7-9a71-76f85dbcf51f",
   "metadata": {},
   "source": [
    "### Explore the distribution of the clipped DPM pixel values by plotting a histogram¶"
   ]
  },
  {
   "cell_type": "code",
   "execution_count": null,
   "id": "a5436517-f935-461f-ac75-5ff66ab57425",
   "metadata": {},
   "outputs": [],
   "source": [
    "from rasterio.plot import show_hist\n",
    "dpm_src = rasterio.open(dpm_raw_file)\n",
    "show_hist(\n",
    "    dpm_src, bins=64, lw=0.0, stacked=False, alpha=0.3,\n",
    "    histtype='stepfilled', title=\"Distribution of DPM Raw Pixel Values\")"
   ]
  },
  {
   "cell_type": "markdown",
   "id": "37ed32a2-2c6e-47e3-83d3-26e59afc9c3e",
   "metadata": {
    "jp-MarkdownHeadingCollapsed": true,
    "tags": []
   },
   "source": [
    "## 3: Load and plot the building inventory files"
   ]
  },
  {
   "cell_type": "markdown",
   "id": "06d016d8-4ab8-4e0a-bc52-42f89a43faff",
   "metadata": {},
   "source": [
    "### Load the building inventory file for Budhanilkantha "
   ]
  },
  {
   "cell_type": "code",
   "execution_count": null,
   "id": "0bb5c50a-3105-40e7-8b9d-50a7989db616",
   "metadata": {},
   "outputs": [],
   "source": [
    "# bldgs_gdf = gpd.read_file(building_footprints_file)"
   ]
  },
  {
   "cell_type": "markdown",
   "id": "742b32f4-7dee-459e-be3a-3eca0435869b",
   "metadata": {},
   "source": [
    "### Inspect the building inventory file"
   ]
  },
  {
   "cell_type": "code",
   "execution_count": null,
   "id": "46d82325-85e3-41bf-98fa-fda7bbedfb4e",
   "metadata": {},
   "outputs": [],
   "source": [
    "# bldgs_gdf.head()"
   ]
  },
  {
   "cell_type": "markdown",
   "id": "d380c3a6-a670-4d7c-b0d7-c57c3d652a84",
   "metadata": {},
   "source": [
    "### Drop unnecessary columns"
   ]
  },
  {
   "cell_type": "code",
   "execution_count": null,
   "id": "df1e1ed7-2f4a-4372-b261-f3abb4418029",
   "metadata": {},
   "outputs": [],
   "source": [
    "# bldgs_gdf.drop(columns=[\"fid\", \"ObjectType\", \"PROMJENA\"], inplace=True)"
   ]
  },
  {
   "cell_type": "markdown",
   "id": "05de3261-59c8-46c7-92cc-3dc633015337",
   "metadata": {},
   "source": [
    "## 4: Join the damage labels to the building inventory"
   ]
  },
  {
   "cell_type": "markdown",
   "id": "399c9cd0-ce59-4b48-ada5-a0cd7d738825",
   "metadata": {},
   "source": [
    "### Load the damage labels (\"ground truth\" / \"test labels\")"
   ]
  },
  {
   "cell_type": "code",
   "execution_count": null,
   "id": "ae96e54d-5218-4432-8bdd-99b08a1bc098",
   "metadata": {},
   "outputs": [],
   "source": [
    "usecols = [\"BuildingID\", \"AgeOfBuild\", \"FootprintA\", \"NumOfStore\", \"Slope_Grou\", \"Constr_Typ\", \"Type_Floor\", \"Type_Roof\", \"Build_Posi\", \"Build_FtPr\", \"VrtclStrIr\", \"DMGgrd\", \"POINT_X\", \"POINT_Y\"]\n",
    "dmg_labels_df = pd.read_csv(damage_labels_file, usecols=usecols, index_col=0)\n",
    "dmg_labels_gdf = gpd.GeoDataFrame(\n",
    "    dmg_labels_df.drop([\"POINT_X\", \"POINT_Y\"], axis=1),\n",
    "    crs=dst_crs,\n",
    "    geometry=[Point(xy) for xy in zip(dmg_labels_df.POINT_X, dmg_labels_df.POINT_Y)])"
   ]
  },
  {
   "cell_type": "markdown",
   "id": "b509337a-958c-4cbd-ad99-8d92e6ae5212",
   "metadata": {},
   "source": [
    "### Inspect the damage labels layer contents"
   ]
  },
  {
   "cell_type": "code",
   "execution_count": null,
   "id": "0c4823f6-7933-40e7-9817-09cd96958fb0",
   "metadata": {},
   "outputs": [],
   "source": [
    "dmg_labels_gdf.head()"
   ]
  },
  {
   "cell_type": "code",
   "execution_count": null,
   "id": "d3cfaf20-43d6-49be-9e08-c681a4d28d21",
   "metadata": {},
   "outputs": [],
   "source": [
    "# Clean up field names\n",
    "dmg_labels_gdf.rename(\n",
    "    columns={\n",
    "    \"AgeOfBuild\": \"AGE\", \n",
    "    \"FootprintA\": \"FOOTPRINT_AREA\", \n",
    "    \"NumOfStore\": \"NUM_STOREYS\", \n",
    "    \"Slope_Grou\": \"SLOPE_GROUND\", \n",
    "    \"Constr_Typ\": \"TYPE_CONSTR\", \n",
    "    \"Type_Floor\": \"TYPE_FLOOR\", \n",
    "    \"Type_Roof\": \"TYPE_ROOF\", \n",
    "    \"Build_Posi\": \"ADJACENCY\", \n",
    "    \"Build_FtPr\": \"FOOTPRINT_SHAPE\", \n",
    "    \"VrtclStrIr\": \"IRREGULARITY\", \n",
    "    \"DMGgrd\": \"DAMAGE_GRADE\",\n",
    "    }, \n",
    "    inplace=True)\n",
    "\n",
    "# Inspect contents of the revised files\n",
    "dmg_labels_gdf.head()"
   ]
  },
  {
   "cell_type": "code",
   "execution_count": null,
   "id": "e30b9e8f-fcc7-4422-9c31-8c6c7652f8d8",
   "metadata": {},
   "outputs": [],
   "source": [
    "# Inspect the damage grade labels column\n",
    "ax = (dmg_labels_gdf.DAMAGE_GRADE\n",
    "      .value_counts()\n",
    "      .sort_index()\n",
    "      .plot.bar(\n",
    "          title=\"Damage Labels\"\n",
    "      ))\n",
    "for p in ax.patches:\n",
    "    ax.annotate(\n",
    "        p.get_height(), (p.get_x()+p.get_width()/2., p.get_height()), \n",
    "        ha='center', va='center', \n",
    "        xytext=(0, 10), textcoords='offset points')"
   ]
  },
  {
   "cell_type": "markdown",
   "id": "8627b2f6-4c8e-44d8-97f7-72d1bcbba691",
   "metadata": {},
   "source": [
    "### Explanation of damage labels\n",
    "The damage labels are based on the EMS-98 scale. \n",
    "Data source: National Society of Earthquake Technology - Nepal (NSET) and Budhanilkantha Municipality, Kathmandu District\n",
    "\n",
    "![EMS-98 Damage Grades](https://emergency.copernicus.eu/mapping/sites/default/files/images/DamageAssessement_classification.png)"
   ]
  },
  {
   "cell_type": "markdown",
   "id": "229d086d-a07b-4fa2-b745-c2ee0a4baa11",
   "metadata": {},
   "source": [
    "### Inspect the damage grade labels column after relabeling (if any)"
   ]
  },
  {
   "cell_type": "code",
   "execution_count": null,
   "id": "c280e7a6-11f4-40a4-9997-ad0ff9acb084",
   "metadata": {},
   "outputs": [],
   "source": [
    "ax = (dmg_labels_gdf.DAMAGE_GRADE\n",
    "      .value_counts()\n",
    "      .sort_index()\n",
    "      .plot.bar(\n",
    "          title=\"Damage Labels\",\n",
    "          color=[\"LimeGreen\", \"Yellow\", \"Gold\", \"Orange\", \"Coral\", \"IndianRed\"],\n",
    "      ))\n",
    "for p in ax.patches:\n",
    "    ax.annotate(\n",
    "        p.get_height(), (p.get_x()+p.get_width()/2., p.get_height()), \n",
    "        ha='center', va='center', \n",
    "        xytext=(0, 10), textcoords='offset points')"
   ]
  },
  {
   "cell_type": "markdown",
   "id": "a74b2ef4-b946-4654-b1bc-3950ed67ca05",
   "metadata": {
    "tags": []
   },
   "source": [
    "#### Note: This is an imbalanced dataset\n",
    "The number of samples in Damage Grade \"0\" is roughly two orders of magnitude larger than the number of samples in Damage Grade \"3\". Most machine learning multiclass classification algorithms assume that all classes have roughly similar numbers of examples.\n",
    "\n",
    "To circumvent this issue, one potential route is to modify the training set to have similar numbers of examples in each category, for instance by oversampling training examples from the classes with fewer examples.\n",
    "\n",
    "Another route is to modify the classification algorithm by changing the way learning is performed, preferably biasing more towards those classes that have fewer examples in the training dataset. This is generally called cost-sensitive learning."
   ]
  },
  {
   "cell_type": "code",
   "execution_count": null,
   "id": "63b8d3df-d374-4c93-a7a0-924ab46de76b",
   "metadata": {},
   "outputs": [],
   "source": [
    "# Inspect the coordinate reference system used by the damage database\n",
    "dmg_labels_gdf.crs"
   ]
  },
  {
   "cell_type": "code",
   "execution_count": null,
   "id": "226985ab-7092-40cd-8fad-daa058e2a307",
   "metadata": {},
   "outputs": [],
   "source": [
    "# Reproject the damage dataset to the project coordinate reference system\n",
    "dmg_labels_gdf = dmg_labels_gdf.to_crs(dst_crs)"
   ]
  },
  {
   "cell_type": "markdown",
   "id": "aa53c9df-fe39-40ae-9d96-6881ddc6d418",
   "metadata": {},
   "source": [
    "### Buffer the points in the damage database to expand each point into a circle of 5m radius"
   ]
  },
  {
   "cell_type": "code",
   "execution_count": null,
   "id": "4c1e909f-e748-426a-84de-29295dfe3ce9",
   "metadata": {},
   "outputs": [],
   "source": [
    "# Buffer each damage label point using a 20 meter buffer zone \n",
    "# and replace the point geometry with the new buffered geometry\n",
    "# The damage database is in the EPSG:3857 CRS, thus the buffer distance is in metres\n",
    "# Given the coarser resolution of the ALOS DPM, smaller buffer radii\n",
    "# result in a large number of NaN DPM assignments\n",
    "dmg_labels_buffer_gdf = dmg_labels_gdf.copy()\n",
    "dmg_labels_buffer_gdf[\"geometry\"] = dmg_labels_gdf.to_crs(\"EPSG:3857\").buffer(20).to_crs(dst_crs)\n",
    "dmg_labels_buffer_gdf.head()"
   ]
  },
  {
   "cell_type": "markdown",
   "id": "4cbd6648-0e9a-461e-ac61-b2fbe13ac163",
   "metadata": {},
   "source": [
    "### Join the damage labels to the building inventory"
   ]
  },
  {
   "cell_type": "code",
   "execution_count": null,
   "id": "877fa461-86a3-4c5c-988e-7e2b2a5067ee",
   "metadata": {},
   "outputs": [],
   "source": [
    "# Building footprints available from OSM for Budhanilkantha are post-earthquake, \n",
    "# so they are missing the collapsed buildings; thus in this case it is better\n",
    "# to proceed without a building footprint dataset. We treat the buffered damage\n",
    "# label points as buildings\n",
    "input_gdf = dmg_labels_buffer_gdf"
   ]
  },
  {
   "cell_type": "markdown",
   "id": "bd1101ff-43ff-4fb7-9809-788b5429c3bb",
   "metadata": {},
   "source": [
    "## 5. Join ShakeMap intensity to building inventory"
   ]
  },
  {
   "cell_type": "markdown",
   "id": "1ed27d1b-a5f0-4bb4-8d7e-fdea380e6b78",
   "metadata": {},
   "source": [
    "### Join ShakeMap value to the building inventory"
   ]
  },
  {
   "cell_type": "code",
   "execution_count": null,
   "id": "84c54241-eaa4-4c9d-b052-e4de2514e87e",
   "metadata": {},
   "outputs": [],
   "source": [
    "# Build url for the ShakeMap polygons shapefile and perform a spatial join\n",
    "tic = time()\n",
    "shakemap_shp = f\"zip+{shakemap_zip}!mi.shp\"\n",
    "shakemap_gdf = gpd.read_file(shakemap_shp)\n",
    "inputs_gdf = gpd.sjoin(input_gdf, shakemap_gdf, how=\"left\", op=\"within\")\n",
    "print(f\"Spatial join completed in {time() - tic:.0f}s\")"
   ]
  },
  {
   "cell_type": "code",
   "execution_count": null,
   "id": "77f84fc6-10d6-49ce-856c-c59bf8de1737",
   "metadata": {},
   "outputs": [],
   "source": [
    "# Drop unneeded columns and rename the remaining ones\n",
    "inputs_gdf.drop(columns=[\"index_right\", \"AREA\", \"PERIMETER\", \"PGAPOL_\", \"PGAPOL_ID\", \"GRID_CODE\"], inplace=True)\n",
    "inputs_gdf.rename(columns={\"Area\": \"AREA\", \"layer\": \"BLDG_TYPE\", \"PARAMVALUE\": \"MMI\"}, inplace=True)"
   ]
  },
  {
   "cell_type": "code",
   "execution_count": null,
   "id": "a9828969-4b79-474d-ba66-31026ac9bb14",
   "metadata": {},
   "outputs": [],
   "source": [
    "# Assign buildings with no shaking intensity to a value of MMI=0\n",
    "inputs_gdf.fillna(value={\"MMI\": 0}, inplace=True)"
   ]
  },
  {
   "cell_type": "code",
   "execution_count": null,
   "id": "8ac2e930-7cd7-4566-8e18-16653895c6aa",
   "metadata": {},
   "outputs": [],
   "source": [
    "# Create both string and numeric versions of the shaking intensity vector\n",
    "inputs_strings = inputs_gdf.astype({\"MMI\": str, \"DAMAGE_GRADE\":str})\n",
    "inputs_numeric = inputs_gdf.astype({\"MMI\": float, \"DAMAGE_GRADE\":int})"
   ]
  },
  {
   "cell_type": "code",
   "execution_count": null,
   "id": "66c754b7-7952-420b-b32f-287de6c75769",
   "metadata": {},
   "outputs": [],
   "source": [
    "# Inspect the joined dataset\n",
    "inputs_numeric.head()"
   ]
  },
  {
   "cell_type": "code",
   "execution_count": null,
   "id": "e7759a41-1063-4ef6-8707-b7b77ee2729e",
   "metadata": {},
   "outputs": [],
   "source": [
    "sns.set_theme(style=\"ticks\")\n",
    "sns.jointplot(\n",
    "    data=inputs_numeric, \n",
    "    x=\"MMI\", y=\"DAMAGE_GRADE\", \n",
    "    marker=\"+\", s=100, \n",
    "    marginal_kws=dict(bins=25, fill=False),\n",
    ")"
   ]
  },
  {
   "cell_type": "markdown",
   "id": "a36f09e1-7aef-41b6-9c9e-a24d807a7390",
   "metadata": {},
   "source": [
    "## 6: Join DPM values to the input dataset"
   ]
  },
  {
   "cell_type": "markdown",
   "id": "7c8f3ade-dcf7-4a1b-8d72-92d5a2381d7c",
   "metadata": {},
   "source": [
    "### Find the maximum DPM value falling within each buffered building polygon"
   ]
  },
  {
   "cell_type": "code",
   "execution_count": null,
   "id": "ce0cda83-9fc8-46f0-ad4e-acc42ec538f7",
   "metadata": {},
   "outputs": [],
   "source": [
    "# This step can take several minutes, depending on the sizes\n",
    "# of the building inventory + damage database and the DPM raster\n",
    "tic = time()\n",
    "with rasterio.open(dpm_clipped_file) as dpm_src:\n",
    "    dpm_data = dpm_src.read(1, masked=True)\n",
    "    dpm_meta = dpm_src.profile\n",
    "    \n",
    "inputs_list = rs.zonal_stats(\n",
    "    inputs_numeric,\n",
    "    dpm_data,\n",
    "    nodata=-999,\n",
    "    affine=dpm_meta['transform'],\n",
    "    geojson_out=True,\n",
    "    copy_properties=True,\n",
    "    stats=\"max\")\n",
    "\n",
    "print(f\"Zonal stats query completed in {time() - tic:.0f}s\")\n",
    "\n",
    "# View object type\n",
    "type(inputs_list)"
   ]
  },
  {
   "cell_type": "markdown",
   "id": "444703dc-5510-4b56-bd90-3be506a97915",
   "metadata": {},
   "source": [
    "### Create dataframe with input variable values and labels"
   ]
  },
  {
   "cell_type": "code",
   "execution_count": null,
   "id": "f2ff1c28-74e7-4537-9901-a93bea8f4fc1",
   "metadata": {},
   "outputs": [],
   "source": [
    "inputs_gdf = gpd.GeoDataFrame.from_features(inputs_list)\n",
    "inputs_gdf.rename(columns={\"max\": \"DPM_MAX\"}, inplace=True)\n",
    "\n",
    "inputs_gdf.head()"
   ]
  },
  {
   "cell_type": "code",
   "execution_count": null,
   "id": "ca080d6c-71f3-4169-a1b7-d6112a2f676f",
   "metadata": {},
   "outputs": [],
   "source": [
    "# Plot a histogram of the joined DPM values\n",
    "# This ignores NaN values, i.e., those buildings for which no DPM value was assigned\n",
    "dpm_hist = inputs_gdf.DPM_MAX.hist(bins=20)"
   ]
  },
  {
   "cell_type": "code",
   "execution_count": null,
   "id": "2cbf5165-c06e-415d-b905-f074807fca0e",
   "metadata": {},
   "outputs": [],
   "source": [
    "# Assign buildings with no DPM value to a value of DPM=0\n",
    "inputs_gdf.fillna(value={\"DPM_MAX\": 0}, inplace=True)\n",
    "dpm_hist = inputs_gdf.DPM_MAX.hist(bins=20)"
   ]
  },
  {
   "cell_type": "markdown",
   "id": "0d90284a-eb3d-4636-ba7c-786d391527c9",
   "metadata": {},
   "source": [
    "## 7: Extract and explore the training features and training labels"
   ]
  },
  {
   "cell_type": "markdown",
   "id": "0ee5aa1d-fb10-4a2e-9687-cee0f66fdb18",
   "metadata": {},
   "source": [
    "### Extract the training labels and values as vectors"
   ]
  },
  {
   "cell_type": "code",
   "execution_count": null,
   "id": "effd575c-2f56-4c14-89a0-3e9c10873770",
   "metadata": {},
   "outputs": [],
   "source": [
    "train_values = inputs_gdf[[\"AGE\", \"FOOTPRINT_AREA\", \"NUM_STOREYS\", \"SLOPE_GROUND\", \"TYPE_CONSTR\", \"TYPE_FLOOR\", \"TYPE_ROOF\", \"ADJACENCY\", \"FOOTPRINT_SHAPE\", \"IRREGULARITY\", \"MMI\", \"DPM_MAX\"]]\n",
    "train_labels = inputs_gdf[[\"DAMAGE_GRADE\"]]"
   ]
  },
  {
   "cell_type": "code",
   "execution_count": null,
   "id": "006eccd6-2839-4a2e-aa82-dd02aa4f9964",
   "metadata": {},
   "outputs": [],
   "source": [
    "train_values.dtypes"
   ]
  },
  {
   "cell_type": "code",
   "execution_count": null,
   "id": "eba47893-decc-451b-b60f-c5e0b7fdbb30",
   "metadata": {},
   "outputs": [],
   "source": [
    "train_labels.dtypes"
   ]
  },
  {
   "cell_type": "markdown",
   "id": "ae0fd5b7-7a9e-4d21-a6f4-0cedb10ce09f",
   "metadata": {},
   "source": [
    "### Explore the training data"
   ]
  },
  {
   "cell_type": "code",
   "execution_count": null,
   "id": "6d0d4af7-6431-4517-b47a-b6c36ccce9fd",
   "metadata": {},
   "outputs": [],
   "source": [
    "ax = (train_labels.DAMAGE_GRADE\n",
    "      .value_counts()\n",
    "      .sort_index()\n",
    "      .plot.bar(\n",
    "          title=\"Number of Buildings in Each Damage Grade\",\n",
    "          color=[\"LimeGreen\", \"Yellow\", \"Gold\", \"Orange\", \"Coral\", \"IndianRed\"],\n",
    "      ))\n",
    "for p in ax.patches:\n",
    "    ax.annotate(\n",
    "        p.get_height(), (p.get_x()+p.get_width()/2., p.get_height()), \n",
    "        ha='center', va='center', \n",
    "        xytext=(0, 10), textcoords='offset points')"
   ]
  },
  {
   "cell_type": "markdown",
   "id": "624b1141-1078-43ba-ae87-24bd34b4080a",
   "metadata": {},
   "source": [
    "### Select subset of features to use for training"
   ]
  },
  {
   "cell_type": "code",
   "execution_count": null,
   "id": "0e2d3f31-c14a-4c5b-a05e-27bf835039e5",
   "metadata": {},
   "outputs": [],
   "source": [
    "selected_features = [\"AGE\", \"NUM_STOREYS\", \"SLOPE_GROUND\", \"TYPE_CONSTR\", \"TYPE_FLOOR\", \"TYPE_ROOF\", \"ADJACENCY\", \"FOOTPRINT_SHAPE\", \"IRREGULARITY\", \"MMI\", \"DPM_MAX\"]\n",
    "train_values_subset = train_values[selected_features]"
   ]
  },
  {
   "cell_type": "markdown",
   "id": "5c03270f-db1e-49e5-8d13-29c7e798d2e4",
   "metadata": {},
   "source": [
    "### Explore the relationships between the numeric features and labels"
   ]
  },
  {
   "cell_type": "code",
   "execution_count": null,
   "id": "88930d0d-464c-4f02-9837-eceeef78177e",
   "metadata": {},
   "outputs": [],
   "source": [
    "sns.set_theme(style=\"ticks\")\n",
    "train_values_subset_plot = train_values_subset.replace(0, np.nan)\n",
    "sns.pairplot(\n",
    "    train_values_subset_plot.join(train_labels),\n",
    "    hue=\"DAMAGE_GRADE\",\n",
    "    hue_order=[5, 4, 3, 2, 1, 0],\n",
    "    palette={0:\"LimeGreen\", 1:\"Yellow\", 2:\"Gold\", 3:\"Orange\", 4:\"Coral\", 5:\"IndianRed\"},\n",
    "    markers=[\"1\", \"2\", \"3\", \"4\", \"+\", \"x\"],\n",
    "    kind=\"scatter\",\n",
    "    diag_kind=\"hist\",\n",
    "    corner=True,\n",
    "    plot_kws={'alpha':0.6, 'linewidth':1},\n",
    "    diag_kws={'fill':True},\n",
    "    grid_kws={'diag_sharey':False},\n",
    ")\n",
    "plt.savefig(\"Figures/PairPlot_DS5.png\")"
   ]
  },
  {
   "cell_type": "code",
   "execution_count": null,
   "id": "c113f685-7117-400d-8ad9-9d1633f25e5b",
   "metadata": {},
   "outputs": [],
   "source": [
    "# Ignore Damage Grade 0 for the plots\n",
    "sns.pairplot(\n",
    "    train_values_subset_plot.join(train_labels).replace(0, np.nan),\n",
    "    hue=\"DAMAGE_GRADE\",\n",
    "    hue_order=[5, 4, 3, 2, 1],\n",
    "    palette={1:\"Yellow\", 2:\"Gold\", 3:\"Orange\", 4:\"Coral\", 5:\"IndianRed\"},\n",
    "    markers=[\"2\", \"3\", \"4\", \"+\", \"x\"],\n",
    "    kind=\"scatter\",\n",
    "    diag_kind=\"hist\",\n",
    "    corner=True,\n",
    "    plot_kws={'alpha':0.6, 'linewidth':1},\n",
    "    diag_kws={'fill':True},\n",
    "    grid_kws={'diag_sharey':False},\n",
    ")\n",
    "plt.savefig(\"Figures/PairPlot_DS5.png\")"
   ]
  },
  {
   "cell_type": "markdown",
   "id": "f2742450-87b3-41a4-a516-0d26f3513739",
   "metadata": {},
   "source": [
    "## 8: Build the ML model(s)"
   ]
  },
  {
   "cell_type": "markdown",
   "id": "94e9e28a-2497-4368-909b-55efadf09efd",
   "metadata": {},
   "source": [
    "### Import modules for the machine learning training component"
   ]
  },
  {
   "cell_type": "code",
   "execution_count": null,
   "id": "d3945ace-8daf-4f97-80ca-6a0241917502",
   "metadata": {},
   "outputs": [],
   "source": [
    "# for preprocessing the data\n",
    "from sklearn.preprocessing import StandardScaler\n",
    "\n",
    "# for unbalanced datasets\n",
    "from sklearn.utils.class_weight import compute_sample_weight\n",
    "\n",
    "# for splitting the data into training and test sets\n",
    "from sklearn.model_selection import train_test_split\n",
    "\n",
    "# the model(s)\n",
    "from sklearn.experimental import enable_hist_gradient_boosting\n",
    "from sklearn.ensemble import HistGradientBoostingClassifier\n",
    "\n",
    "# for combining the preprocess with model training\n",
    "from sklearn.preprocessing import OrdinalEncoder\n",
    "from sklearn.pipeline import make_pipeline\n",
    "from sklearn.compose import make_column_transformer\n",
    "from sklearn.compose import make_column_selector\n",
    "\n",
    "# for optimizing the hyperparameters of the pipeline\n",
    "from sklearn.model_selection import GridSearchCV"
   ]
  },
  {
   "cell_type": "markdown",
   "id": "e5dd1992-f01d-4180-b07f-66e7d2c85c8e",
   "metadata": {},
   "source": [
    "### Split dataset into training and test subsets\n",
    "\n",
    "When performing a (supervised) machine learning experiment, it is common to hold out part of the available data as a test set `X_test, y_test`. The best parameters can be determined by grid search techniques."
   ]
  },
  {
   "cell_type": "code",
   "execution_count": null,
   "id": "1e579b05-2039-4b30-af29-f47389ce8c96",
   "metadata": {},
   "outputs": [],
   "source": [
    "X_train, X_test, y_train, y_test = train_test_split(train_values_subset, train_labels, train_size=0.70, test_size=0.30, random_state=40)"
   ]
  },
  {
   "cell_type": "code",
   "execution_count": null,
   "id": "07d3e970-13e3-4a21-820f-8fb42d8137fd",
   "metadata": {},
   "outputs": [],
   "source": [
    "n_categorical_features = (X_train.dtypes == 'object').sum()\n",
    "n_numerical_features = ((X_train.dtypes == 'float') | (X_train.dtypes == 'int')).sum()\n",
    "print(f\"Number of training samples: {X_train.shape[0]}\")\n",
    "print(f\"Number of training features: {X_train.shape[1]}\")\n",
    "print(f\"Number of categorical features: {n_categorical_features}\")\n",
    "print(f\"Number of numerical features: {n_numerical_features}\")"
   ]
  },
  {
   "cell_type": "markdown",
   "id": "31887ca1-ad74-4995-9ea3-f15b27418027",
   "metadata": {},
   "source": [
    "We will create a HistGradientBoostingRegressor estimator that natively handles categorical features. We let the estimator know which features are categorical."
   ]
  },
  {
   "cell_type": "markdown",
   "id": "d150d8ce-99d5-49f6-8a0d-3bb01ecdfffb",
   "metadata": {},
   "source": [
    "First, we create an ordinal pipeline that will treat categorical features as if they were ordered quantities, i.e. the categories will be encoded as 0, 1, 2, etc."
   ]
  },
  {
   "cell_type": "code",
   "execution_count": null,
   "id": "09fd6b4b-fc9b-4d41-bc1b-2778fb228ca0",
   "metadata": {},
   "outputs": [],
   "source": [
    "ordinal_encoder = make_column_transformer(\n",
    "    (OrdinalEncoder(handle_unknown='use_encoded_value', unknown_value=np.nan),\n",
    "     make_column_selector(dtype_include='object')),\n",
    "    remainder='passthrough')"
   ]
  },
  {
   "cell_type": "code",
   "execution_count": null,
   "id": "a3f6e994-be0c-4290-b1ca-2b1537df7e0b",
   "metadata": {},
   "outputs": [],
   "source": [
    "# The ordinal encoder will first output the categorical features, and then the\n",
    "# continuous (passed-through) features\n",
    "categorical_mask = ([True] * n_categorical_features + [False] * n_numerical_features)"
   ]
  },
  {
   "cell_type": "code",
   "execution_count": null,
   "id": "3a9ca3dd-f18a-4f88-a325-a4ec410b40ce",
   "metadata": {},
   "outputs": [],
   "source": [
    "sample_weight = compute_sample_weight(class_weight=\"balanced\", y=y_train)"
   ]
  },
  {
   "cell_type": "markdown",
   "id": "e315a9b4-b97f-451e-9542-9f187f424a9a",
   "metadata": {},
   "source": [
    "### Use a Histogram Gradient Boosting Classifier"
   ]
  },
  {
   "cell_type": "code",
   "execution_count": null,
   "id": "f5c0402f-bc7f-45d2-930d-a8aef373e84f",
   "metadata": {},
   "outputs": [],
   "source": [
    "pipe = make_pipeline(\n",
    "    ordinal_encoder,\n",
    "    HistGradientBoostingClassifier(\n",
    "        random_state=42,\n",
    "        categorical_features=categorical_mask)\n",
    ")\n",
    "pipe"
   ]
  },
  {
   "cell_type": "markdown",
   "id": "e1986d8f-7097-4f8d-8753-5b2d654fbb84",
   "metadata": {},
   "source": [
    "### Train a HistGradientBoostingClassifier model with scikit-learn defaults for all parameters"
   ]
  },
  {
   "cell_type": "markdown",
   "id": "0aa65ee7-584f-4f6d-b3ae-df0c97a67eee",
   "metadata": {},
   "source": [
    "A random forest is a meta estimator that fits a number of decision tree classifiers on various sub-samples of the dataset and uses averaging to improve the predictive accuracy and control over-fitting."
   ]
  },
  {
   "cell_type": "code",
   "execution_count": null,
   "id": "b8c56688-dbce-451a-9cfe-34544e02b845",
   "metadata": {},
   "outputs": [],
   "source": [
    "tic = time()\n",
    "gs = pipe\n",
    "gs.fit(X_train, y_train.values.ravel(), histgradientboostingclassifier__sample_weight=sample_weight)"
   ]
  },
  {
   "cell_type": "code",
   "execution_count": null,
   "id": "19e65c32-fd8a-4b8b-a008-d0532e96f167",
   "metadata": {},
   "outputs": [],
   "source": [
    "print(f\"Model fit completed in {time() - tic:.0f}s\")"
   ]
  },
  {
   "cell_type": "markdown",
   "id": "d998b2f5-1124-4c52-995d-4d0d301dcc56",
   "metadata": {},
   "source": [
    "### Evaluate the model prediction performance on the _training set_"
   ]
  },
  {
   "cell_type": "code",
   "execution_count": null,
   "id": "dbd1e073-9f80-47b3-bb53-8bc0a4ce5977",
   "metadata": {},
   "outputs": [],
   "source": [
    "# Evaluation metrics\n",
    "# from sklearn.metrics import roc_curve # restricted to the binary classification case\n",
    "# from sklearn.metrics import plot_precision_recall_curve # restricted to the binary classification case\n",
    "from sklearn.metrics import classification_report\n",
    "from sklearn.metrics import confusion_matrix\n",
    "from sklearn.metrics import plot_confusion_matrix\n",
    "from sklearn.metrics import balanced_accuracy_score\n",
    "from sklearn.metrics import f1_score"
   ]
  },
  {
   "cell_type": "markdown",
   "id": "3f6f43f7-37b0-497c-ada5-2c801f896cfa",
   "metadata": {},
   "source": [
    "#### Compute the F1 score, also known as balanced F-score or F-measure for the _training_ set\n",
    "\n",
    "The F1 score can be interpreted as a weighted average of the precision and recall, where an F1 score reaches its best value at 1 and worst score at 0. The relative contribution of precision and recall to the F1 score are equal. The formula for the F1 score is:\n",
    "\n",
    "`F1 = 2 * (precision * recall) / (precision + recall)`\n",
    "\n",
    "In our multi-class case, this is the average of the F1 score of each class with weighting depending on the average parameter."
   ]
  },
  {
   "cell_type": "code",
   "execution_count": null,
   "id": "bdeb00bb-850c-4e57-ad50-da9f93862002",
   "metadata": {},
   "outputs": [],
   "source": [
    "# Calculate metrics globally by counting the total true positives, \n",
    "# false negatives and false positives.\n",
    "in_sample_preds = gs.predict(train_values_subset)\n",
    "f1_score(train_labels, in_sample_preds, average='micro')"
   ]
  },
  {
   "cell_type": "code",
   "execution_count": null,
   "id": "1e3e84ad-dc37-4197-b930-584037007195",
   "metadata": {},
   "outputs": [],
   "source": [
    "# Calculate metrics for each label, and find their average weighted \n",
    "# the number of true instances for each label. This alters ‘macro’ to \n",
    "# account for label imbalance; it can result in an F-score that is not \n",
    "# between precision and recall.\n",
    "f1_score(train_labels, in_sample_preds, average='weighted')"
   ]
  },
  {
   "cell_type": "code",
   "execution_count": null,
   "id": "3b39af6b-8966-4aed-9727-84ce896f400f",
   "metadata": {},
   "outputs": [],
   "source": [
    "# Calculate metrics for each label, and find their unweighted mean. \n",
    "# This does not take label imbalance into account.\n",
    "f1_score(train_labels, in_sample_preds, average='macro')"
   ]
  },
  {
   "cell_type": "markdown",
   "id": "0eb5feac-af69-4893-9b17-1a303089ea30",
   "metadata": {},
   "source": [
    "#### Print balanced accuracy score for predictions on the _training_ set\n",
    "\n",
    "The balanced_accuracy_score function computes the balanced accuracy, which avoids inflated performance estimates on imbalanced datasets. It is the macro-average of recall scores per class or, equivalently, raw accuracy where each sample is weighted according to the inverse prevalence of its true class. For balanced datasets, the score is equal to accuracy."
   ]
  },
  {
   "cell_type": "code",
   "execution_count": null,
   "id": "2bd8c2ab-5460-4162-8b48-6736c4841f55",
   "metadata": {},
   "outputs": [],
   "source": [
    "balanced_accuracy_score(train_labels, in_sample_preds)"
   ]
  },
  {
   "cell_type": "markdown",
   "id": "e56bed18-67e0-4ba2-9fe9-d0c85fd4c2be",
   "metadata": {},
   "source": [
    "#### Print classification report for predictions on the _training_ set\n",
    "The precision is the ratio `tp / (tp + fp)` where `tp` is the number of true positives and `fp` the number of false positives. The precision is intuitively the ability of the classifier not to label as positive a sample that is negative.\n",
    "\n",
    "The recall is the ratio `tp / (tp + fn)` where `tp` is the number of true positives and `fn` the number of false negatives. The recall is intuitively the ability of the classifier to find all the positive samples."
   ]
  },
  {
   "cell_type": "code",
   "execution_count": null,
   "id": "ce1ee132-1975-4f3c-a73a-32f1fe02168b",
   "metadata": {},
   "outputs": [],
   "source": [
    "target_names = [\"No Damage\", \"Slight Damage\", \"Moderate Damage\", \"Heavy Damage\", \"Very Heavy Damage\", \"Desctruction\"]\n",
    "print(classification_report(train_labels, in_sample_preds, target_names=target_names))"
   ]
  },
  {
   "cell_type": "markdown",
   "id": "2f9436cd-c5b7-4c13-ba41-12ae76ba03d7",
   "metadata": {},
   "source": [
    "#### Display the confusion matrix for the predictions on the _training_ set"
   ]
  },
  {
   "cell_type": "code",
   "execution_count": null,
   "id": "d969cf72-ed5a-4d93-9f44-9b168ed101cf",
   "metadata": {},
   "outputs": [],
   "source": [
    "confusion_matrix(train_labels, in_sample_preds)"
   ]
  },
  {
   "cell_type": "markdown",
   "id": "8690907c-6d70-4c58-af6e-238be0efdade",
   "metadata": {},
   "source": [
    "#### Plot confusion matrix with absolute, non-normalized values"
   ]
  },
  {
   "cell_type": "code",
   "execution_count": null,
   "id": "aa859603-deb4-40df-b596-c5e599216cef",
   "metadata": {},
   "outputs": [],
   "source": [
    "plot_confusion_matrix(\n",
    "    gs, train_values_subset, train_labels,\n",
    "    values_format=\",\",\n",
    "    cmap=\"viridis\"\n",
    ")"
   ]
  },
  {
   "cell_type": "markdown",
   "id": "2ae0bcf1-40af-4372-87f6-67f56a0d038f",
   "metadata": {},
   "source": [
    "#### Plot confusion matrix with normalized values"
   ]
  },
  {
   "cell_type": "code",
   "execution_count": null,
   "id": "7cfdab35-7aa9-4022-af37-78138b6005f3",
   "metadata": {},
   "outputs": [],
   "source": [
    "plot_confusion_matrix(\n",
    "    gs, train_values_subset, train_labels,\n",
    "    normalize=\"true\",\n",
    "    values_format=\".2f\",\n",
    "    cmap=\"cividis\"\n",
    ")"
   ]
  },
  {
   "cell_type": "markdown",
   "id": "cc2b11ad-5cca-4a90-9bcb-bf445358a0ed",
   "metadata": {},
   "source": [
    "### Partial Dependence and Individual Conditional Expectation"
   ]
  },
  {
   "cell_type": "code",
   "execution_count": null,
   "id": "6adfc575-bc46-4781-a701-b2b9e17b2531",
   "metadata": {},
   "outputs": [],
   "source": [
    "from sklearn.inspection import partial_dependence\n",
    "from sklearn.inspection import plot_partial_dependence"
   ]
  },
  {
   "cell_type": "code",
   "execution_count": null,
   "id": "8ea8d154-b09d-4126-af13-103fce8ceda7",
   "metadata": {},
   "outputs": [],
   "source": [
    "tic = time()\n",
    "numeric_features = [\"AGE\", \"NUM_STOREYS\", \"MMI\", \"DPM_MAX\"]\n",
    "categorical_features = [\"TYPE_CONSTR\", \"TYPE_FLOOR\", \"TYPE_ROOF\", \"IRREGULARITY\"]\n",
    "display = plot_partial_dependence(\n",
    "    gs, X_train, numeric_features, target=5, n_cols=2\n",
    ")\n",
    "print(f\"Plot generated in {time() - tic:.0f}s\")\n",
    "display.figure_.suptitle(\n",
    "    'Partial dependence of damage grade on non-location features\\n'\n",
    "    'for the California housing dataset, with Gradient Boosting'\n",
    ")\n",
    "display.figure_.subplots_adjust(hspace=0.5)"
   ]
  },
  {
   "cell_type": "markdown",
   "id": "15fd88cb-9a88-445c-b6b2-a2342a35a679",
   "metadata": {},
   "source": [
    "## 9: Make predictions on the test set and evaluate the model performance"
   ]
  },
  {
   "cell_type": "markdown",
   "id": "24baf6f5-dde9-4a62-ba0c-274a06063b86",
   "metadata": {},
   "source": [
    "### Use the trained ML model to make predictions on the test set"
   ]
  },
  {
   "cell_type": "code",
   "execution_count": null,
   "id": "c4797a63-ac0b-4f22-8495-60341b526427",
   "metadata": {},
   "outputs": [],
   "source": [
    "y_pred = gs.predict(X_test)"
   ]
  },
  {
   "cell_type": "markdown",
   "id": "9c516366-ef79-483c-882a-2507604d201f",
   "metadata": {},
   "source": [
    "### Evaluate the model prediction performance on the _test_ set"
   ]
  },
  {
   "cell_type": "markdown",
   "id": "f73fcff5-5bbf-4b7e-bf59-07606f87992d",
   "metadata": {},
   "source": [
    "#### Display the confusion matrix for the predictions on the _test_ set"
   ]
  },
  {
   "cell_type": "code",
   "execution_count": null,
   "id": "f7f8e612-0b9a-4723-91da-e15a6bbce8ba",
   "metadata": {},
   "outputs": [],
   "source": [
    "confusion_matrix(y_test, y_pred)"
   ]
  },
  {
   "cell_type": "markdown",
   "id": "48d4b00e-57dd-45a0-809e-e9f7821eaaaf",
   "metadata": {},
   "source": [
    "#### Plot confusion matrix with absolute, non-normalized values"
   ]
  },
  {
   "cell_type": "code",
   "execution_count": null,
   "id": "04b5c029-7fee-41ec-83a5-0bc720deea6a",
   "metadata": {},
   "outputs": [],
   "source": [
    "plot_confusion_matrix(\n",
    "    gs, X_test, y_test,\n",
    "    values_format=\",\",\n",
    "    cmap=\"viridis\"\n",
    ")"
   ]
  },
  {
   "cell_type": "markdown",
   "id": "8809ae99-2657-4122-a816-72c53febed42",
   "metadata": {},
   "source": [
    "#### Plot confusion matrix with normalized values"
   ]
  },
  {
   "cell_type": "code",
   "execution_count": null,
   "id": "0a072476-9943-4f7b-81a6-e6f2605a6957",
   "metadata": {},
   "outputs": [],
   "source": [
    "plot_confusion_matrix(\n",
    "    gs, X_test, y_test,\n",
    "    normalize=\"true\",\n",
    "    values_format=\".2f\",\n",
    "    cmap=\"cividis\"\n",
    ")"
   ]
  },
  {
   "cell_type": "markdown",
   "id": "2b6985f3-7488-486b-9588-f3f7e8351210",
   "metadata": {},
   "source": [
    "#### Print classification report for the predictions on the _test_ set"
   ]
  },
  {
   "cell_type": "code",
   "execution_count": null,
   "id": "e4ecf1c7-0fdb-4d74-a171-f88b8951e37f",
   "metadata": {},
   "outputs": [],
   "source": [
    "target_names = [\"No Damage\", \"Slight Damage\", \"Moderate Damage\", \"Heavy Damage\", \"Very Heavy Damage\", \"Desctruction\"]\n",
    "print(classification_report(y_test, y_pred, target_names=target_names))"
   ]
  },
  {
   "cell_type": "markdown",
   "id": "72215627-3aa5-4ebe-844c-8e4ed127f5eb",
   "metadata": {},
   "source": [
    "#### Print balanced accuracy score for the predictions on the _test_ set"
   ]
  },
  {
   "cell_type": "code",
   "execution_count": null,
   "id": "13177218-7c99-408a-a26d-73ae096b2abb",
   "metadata": {},
   "outputs": [],
   "source": [
    "balanced_accuracy_score(y_test, y_pred)"
   ]
  },
  {
   "cell_type": "markdown",
   "id": "d4ed8ad7-4d6a-4dce-b808-123e28e01d1a",
   "metadata": {},
   "source": [
    "## 10: Try binary classification"
   ]
  },
  {
   "cell_type": "markdown",
   "id": "1bc82a9f-2436-4c40-8a46-9d274c798c04",
   "metadata": {},
   "source": [
    "### Compress the damage grades into 0 and 1"
   ]
  },
  {
   "cell_type": "code",
   "execution_count": null,
   "id": "0e11a958-a373-439c-b695-0bc64aec9f69",
   "metadata": {},
   "outputs": [],
   "source": [
    "# Assign buildings with no DPM value to a value of DPM=0\n",
    "inputs_gdf[\"DAMAGE_GRADE_BINARY\"] = inputs_gdf.DAMAGE_GRADE.apply(lambda x: 0 if x<=2 else 1)"
   ]
  },
  {
   "cell_type": "markdown",
   "id": "9fd07afd-9986-4b8b-a03c-260da0477327",
   "metadata": {},
   "source": [
    "### Extract the training features and training labels"
   ]
  },
  {
   "cell_type": "code",
   "execution_count": null,
   "id": "40122661-6e38-4765-a7f4-d927fa3f53f2",
   "metadata": {},
   "outputs": [],
   "source": [
    "train_values = inputs_gdf[[\"AGE\", \"FOOTPRINT_AREA\", \"NUM_STOREYS\", \"SLOPE_GROUND\", \"TYPE_CONSTR\", \"TYPE_FLOOR\", \"TYPE_ROOF\", \"ADJACENCY\", \"FOOTPRINT_SHAPE\", \"IRREGULARITY\", \"MMI\", \"DPM_MAX\"]]\n",
    "train_labels = inputs_gdf[[\"DAMAGE_GRADE_BINARY\"]]"
   ]
  },
  {
   "cell_type": "code",
   "execution_count": null,
   "id": "0c039826-8b55-4be0-b66a-4de8eb8f0521",
   "metadata": {},
   "outputs": [],
   "source": [
    "train_values.dtypes"
   ]
  },
  {
   "cell_type": "code",
   "execution_count": null,
   "id": "898d9559-7159-416a-8ec2-dfb57fbfd8a6",
   "metadata": {},
   "outputs": [],
   "source": [
    "train_labels.dtypes"
   ]
  },
  {
   "cell_type": "markdown",
   "id": "42a68f64-982f-402d-8221-fbde5efa3560",
   "metadata": {},
   "source": [
    "### Explore the training data"
   ]
  },
  {
   "cell_type": "code",
   "execution_count": null,
   "id": "e03b4df7-0ed2-4205-b2c5-9664f87d59b5",
   "metadata": {},
   "outputs": [],
   "source": [
    "ax = (train_labels.DAMAGE_GRADE_BINARY\n",
    "      .value_counts()\n",
    "      .sort_index()\n",
    "      .plot.bar(\n",
    "          title=\"Number of Buildings in Each Damage Grade\",\n",
    "          color=[\"Green\", \"Orange\"],\n",
    "      ))\n",
    "for p in ax.patches:\n",
    "    ax.annotate(\n",
    "        p.get_height(), (p.get_x()+p.get_width()/2., p.get_height()), \n",
    "        ha='center', va='center', \n",
    "        xytext=(0, 10), textcoords='offset points')"
   ]
  },
  {
   "cell_type": "markdown",
   "id": "44fbc8f6-f610-4ad5-b80e-5dfadc63b370",
   "metadata": {},
   "source": [
    "### Select subset of features to use for training"
   ]
  },
  {
   "cell_type": "code",
   "execution_count": null,
   "id": "9e79eb9f-436b-4bf1-aedd-e055f093db90",
   "metadata": {},
   "outputs": [],
   "source": [
    "selected_features = [\"AGE\", \"NUM_STOREYS\", \"SLOPE_GROUND\", \"TYPE_CONSTR\", \"TYPE_FLOOR\", \"TYPE_ROOF\", \"ADJACENCY\", \"FOOTPRINT_SHAPE\", \"IRREGULARITY\", \"MMI\", \"DPM_MAX\"]\n",
    "train_values_subset = train_values[selected_features]"
   ]
  },
  {
   "cell_type": "markdown",
   "id": "df9697fd-4e15-4b50-a7f2-91bb1c2a0135",
   "metadata": {},
   "source": [
    "### Explore the relationships between the numeric features and labels"
   ]
  },
  {
   "cell_type": "code",
   "execution_count": null,
   "id": "19880d62-318f-43ab-818d-5c62fef644f1",
   "metadata": {},
   "outputs": [],
   "source": [
    "sns.set_theme(style=\"ticks\")\n",
    "train_values_subset_plot = train_values_subset.replace(0, np.nan)\n",
    "sns.pairplot(\n",
    "    train_values_subset_plot.join(train_labels),\n",
    "    hue=\"DAMAGE_GRADE_BINARY\",\n",
    "    hue_order=[1, 0],\n",
    "    palette={0:\"Green\", 1:\"Orange\"},\n",
    "    markers=[\"1\", \"2\"],\n",
    "    kind=\"scatter\",\n",
    "    diag_kind=\"hist\",\n",
    "    corner=True,\n",
    "    plot_kws={'alpha':0.6, 'linewidth':1},\n",
    "    diag_kws={'fill':True},\n",
    "    grid_kws={'diag_sharey':False},\n",
    ")"
   ]
  },
  {
   "cell_type": "markdown",
   "id": "acbf0a34-5b05-4b9e-8883-3178cdb00e40",
   "metadata": {},
   "source": [
    "### Split dataset into training and test subsets\n",
    "\n",
    "When performing a (supervised) machine learning experiment, it is common to hold out part of the available data as a test set `X_test, y_test`. The best parameters can be determined by grid search techniques."
   ]
  },
  {
   "cell_type": "code",
   "execution_count": null,
   "id": "2a61a6f8-905f-4787-8365-d06b615a3059",
   "metadata": {},
   "outputs": [],
   "source": [
    "X_train, X_test, y_train, y_test = train_test_split(train_values_subset, train_labels, train_size=0.70, test_size=0.30, random_state=40)"
   ]
  },
  {
   "cell_type": "code",
   "execution_count": null,
   "id": "b2a096a7-f839-4e7b-a85f-5da1259070c2",
   "metadata": {},
   "outputs": [],
   "source": [
    "ordinal_encoder = make_column_transformer(\n",
    "    (OrdinalEncoder(handle_unknown='use_encoded_value', unknown_value=np.nan),\n",
    "     make_column_selector(dtype_include='object')),\n",
    "    remainder='passthrough')"
   ]
  },
  {
   "cell_type": "code",
   "execution_count": null,
   "id": "5975154b-ef9d-4f41-9ab2-4994f37b11f7",
   "metadata": {},
   "outputs": [],
   "source": [
    "# The ordinal encoder will first output the categorical features, and then the\n",
    "# continuous (passed-through) features\n",
    "categorical_mask = ([True] * n_categorical_features + [False] * n_numerical_features)"
   ]
  },
  {
   "cell_type": "code",
   "execution_count": null,
   "id": "3da557af-712c-4f2f-9372-9897f53f2d5e",
   "metadata": {},
   "outputs": [],
   "source": [
    "sample_weight = compute_sample_weight(class_weight=\"balanced\", y=y_train)"
   ]
  },
  {
   "cell_type": "markdown",
   "id": "a87f19f0-5bfc-4d5a-9471-9b0754196548",
   "metadata": {},
   "source": [
    "### Use a Histogram Gradient Boosting Classifier"
   ]
  },
  {
   "cell_type": "code",
   "execution_count": null,
   "id": "0bd1191a-3291-404e-9ede-413fc19c450f",
   "metadata": {},
   "outputs": [],
   "source": [
    "pipe = make_pipeline(\n",
    "    ordinal_encoder,\n",
    "    HistGradientBoostingClassifier(\n",
    "        random_state=42,\n",
    "        categorical_features=categorical_mask)\n",
    ")\n",
    "pipe"
   ]
  },
  {
   "cell_type": "markdown",
   "id": "fbfe61d6-1cfa-4d3f-baf4-0d52a9faf5dd",
   "metadata": {},
   "source": [
    "### Train a HistGradientBoostingClassifier model with scikit-learn defaults for all parameters"
   ]
  },
  {
   "cell_type": "markdown",
   "id": "fc8299e9-b717-4614-8454-dc083a66d7f2",
   "metadata": {},
   "source": [
    "A random forest is a meta estimator that fits a number of decision tree classifiers on various sub-samples of the dataset and uses averaging to improve the predictive accuracy and control over-fitting."
   ]
  },
  {
   "cell_type": "code",
   "execution_count": null,
   "id": "5ebcca00-944f-4042-9b3b-a954d85b5b64",
   "metadata": {},
   "outputs": [],
   "source": [
    "gs_binary = pipe\n",
    "gs_binary.fit(X_train, y_train.values.ravel(), histgradientboostingclassifier__sample_weight=sample_weight)"
   ]
  },
  {
   "cell_type": "markdown",
   "id": "debf0869-eb78-4bf3-b578-66962881beb2",
   "metadata": {},
   "source": [
    "### Evaluate the model prediction performance on the _training set_"
   ]
  },
  {
   "cell_type": "code",
   "execution_count": null,
   "id": "f5d2f98b-6a4e-409e-abe8-505302869a2f",
   "metadata": {},
   "outputs": [],
   "source": [
    "in_sample_preds = gs_binary.predict(train_values_subset)"
   ]
  },
  {
   "cell_type": "markdown",
   "id": "3516a83e-e6ce-4431-8179-39ab7e24f424",
   "metadata": {},
   "source": [
    "#### Plot confusion matrix with absolute, non-normalized values"
   ]
  },
  {
   "cell_type": "code",
   "execution_count": null,
   "id": "7ad99b98-340f-4dba-8543-c82dd5761482",
   "metadata": {},
   "outputs": [],
   "source": [
    "plot_confusion_matrix(\n",
    "    gs_binary, train_values_subset, train_labels,\n",
    "    values_format=\",\",\n",
    "    cmap=\"viridis\"\n",
    ")"
   ]
  },
  {
   "cell_type": "markdown",
   "id": "ea7b0476-5066-4e9f-a9e7-4311182f3db9",
   "metadata": {},
   "source": [
    "#### Plot confusion matrix with normalized values"
   ]
  },
  {
   "cell_type": "code",
   "execution_count": null,
   "id": "dcf2fc2e-7937-4b93-94ae-1f374938a5f7",
   "metadata": {},
   "outputs": [],
   "source": [
    "plot_confusion_matrix(\n",
    "    gs_binary, train_values_subset, train_labels,\n",
    "    normalize=\"true\",\n",
    "    values_format=\".2f\",\n",
    "    cmap=\"cividis\"\n",
    ")"
   ]
  },
  {
   "cell_type": "markdown",
   "id": "9ac88a9d-20f4-47d5-96d6-467ee38b630c",
   "metadata": {},
   "source": [
    "### Use the trained model to make predictions on the test set"
   ]
  },
  {
   "cell_type": "code",
   "execution_count": null,
   "id": "c3c13c71-d6cf-45a6-864b-edd2efe95c7e",
   "metadata": {},
   "outputs": [],
   "source": [
    "y_pred = gs_binary.predict(X_test)"
   ]
  },
  {
   "cell_type": "markdown",
   "id": "32c0e9f4-713d-4880-91ae-eb8fcdcbd510",
   "metadata": {},
   "source": [
    "#### Display the confusion matrix for the predictions on the test set"
   ]
  },
  {
   "cell_type": "code",
   "execution_count": null,
   "id": "e87480f7-37f2-4cb6-a1f0-0532f8212be0",
   "metadata": {},
   "outputs": [],
   "source": [
    "confusion_matrix(y_test, y_pred)"
   ]
  },
  {
   "cell_type": "markdown",
   "id": "88452889-a9df-4a1d-927c-80180cb6d4d9",
   "metadata": {},
   "source": [
    "#### Plot confusion matrix with absolute, non-normalized values"
   ]
  },
  {
   "cell_type": "code",
   "execution_count": null,
   "id": "20f3a2d3-cece-45b1-bef1-3959ccf14e5f",
   "metadata": {},
   "outputs": [],
   "source": [
    "plot_confusion_matrix(\n",
    "    gs_binary, X_test, y_test,\n",
    "    values_format=\",\",\n",
    "    cmap=\"viridis\"\n",
    ")"
   ]
  },
  {
   "cell_type": "markdown",
   "id": "f0d3b2be-4f46-4bbc-9c0c-e3ec123674a6",
   "metadata": {},
   "source": [
    "#### Plot confusion matrix with normalized values"
   ]
  },
  {
   "cell_type": "code",
   "execution_count": null,
   "id": "e1a24365-5ad5-406f-b018-68f03bcbc0a6",
   "metadata": {},
   "outputs": [],
   "source": [
    "plot_confusion_matrix(\n",
    "    gs_binary, X_test, y_test,\n",
    "    normalize=\"true\",\n",
    "    values_format=\".2f\",\n",
    "    cmap=\"cividis\"\n",
    ")"
   ]
  },
  {
   "cell_type": "markdown",
   "id": "00d6bb08-5fd5-42bd-8f3a-55bc20c6fb73",
   "metadata": {},
   "source": [
    "#### Print classification report for the predictions on the _test_ set"
   ]
  },
  {
   "cell_type": "code",
   "execution_count": null,
   "id": "bb0bb40a-1e9a-4770-be59-58a8f0912bd1",
   "metadata": {},
   "outputs": [],
   "source": [
    "target_names = [\"No Damage\", \"Damage\"]\n",
    "print(classification_report(y_test, y_pred, target_names=target_names))"
   ]
  },
  {
   "cell_type": "markdown",
   "id": "54478293-1a09-443b-bae0-d8650bb8e55d",
   "metadata": {},
   "source": [
    "#### Print balanced accuracy score for the predictions on the _test_ set"
   ]
  },
  {
   "cell_type": "code",
   "execution_count": null,
   "id": "f7aac279-6e31-470b-98b6-d9963725ecef",
   "metadata": {},
   "outputs": [],
   "source": [
    "balanced_accuracy_score(y_test, y_pred)"
   ]
  }
 ],
 "metadata": {
  "kernelspec": {
   "display_name": "Python 3 (ipykernel)",
   "language": "python",
   "name": "python3"
  },
  "language_info": {
   "codemirror_mode": {
    "name": "ipython",
    "version": 3
   },
   "file_extension": ".py",
   "mimetype": "text/x-python",
   "name": "python",
   "nbconvert_exporter": "python",
   "pygments_lexer": "ipython3",
   "version": "3.9.6"
  }
 },
 "nbformat": 4,
 "nbformat_minor": 5
}
